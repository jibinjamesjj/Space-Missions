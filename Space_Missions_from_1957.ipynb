{
  "nbformat": 4,
  "nbformat_minor": 0,
  "metadata": {
    "colab": {
      "provenance": []
    },
    "kernelspec": {
      "name": "python3",
      "display_name": "Python 3"
    },
    "language_info": {
      "name": "python"
    }
  },
  "cells": [
    {
      "cell_type": "code",
      "execution_count": 2,
      "metadata": {
        "id": "Q13Y_4hkITKf"
      },
      "outputs": [],
      "source": [
        "import pandas as pd\n",
        "\n",
        "# Load the dataset\n",
        "file_path = 'Space_Corrected.csv'\n",
        "df = pd.read_csv(file_path)\n"
      ]
    },
    {
      "cell_type": "code",
      "source": [
        "#Inspecting the Data\n",
        "print(df.info())\n",
        "print(df.head())\n",
        "print(df.describe())"
      ],
      "metadata": {
        "colab": {
          "base_uri": "https://localhost:8080/"
        },
        "id": "-LYhTbQPJFYG",
        "outputId": "1be18426-ad0d-42a9-9e5d-32fcf7f2fd9c"
      },
      "execution_count": 3,
      "outputs": [
        {
          "output_type": "stream",
          "name": "stdout",
          "text": [
            "<class 'pandas.core.frame.DataFrame'>\n",
            "RangeIndex: 4324 entries, 0 to 4323\n",
            "Data columns (total 8 columns):\n",
            " #   Column            Non-Null Count  Dtype \n",
            "---  ------            --------------  ----- \n",
            " 0   Sno               4324 non-null   int64 \n",
            " 1   Company Name      4324 non-null   object\n",
            " 2   Location          4324 non-null   object\n",
            " 3   Datum             4324 non-null   object\n",
            " 4   Detail            4324 non-null   object\n",
            " 5   Status Rocket     4324 non-null   object\n",
            " 6   Cost (Million $)  964 non-null    object\n",
            " 7   Status Mission    4324 non-null   object\n",
            "dtypes: int64(1), object(7)\n",
            "memory usage: 270.4+ KB\n",
            "None\n",
            "   Sno Company Name                                           Location  \\\n",
            "0    0       SpaceX         LC-39A, Kennedy Space Center, Florida, USA   \n",
            "1    1         CASC  Site 9401 (SLS-2), Jiuquan Satellite Launch Ce...   \n",
            "2    2       SpaceX                      Pad A, Boca Chica, Texas, USA   \n",
            "3    3    Roscosmos       Site 200/39, Baikonur Cosmodrome, Kazakhstan   \n",
            "4    4          ULA           SLC-41, Cape Canaveral AFS, Florida, USA   \n",
            "\n",
            "                        Datum                                        Detail  \\\n",
            "0  Fri Aug 07, 2020 05:12 UTC  Falcon 9 Block 5 | Starlink V1 L9 & BlackSky   \n",
            "1  Thu Aug 06, 2020 04:01 UTC           Long March 2D | Gaofen-9 04 & Q-SAT   \n",
            "2  Tue Aug 04, 2020 23:57 UTC            Starship Prototype | 150 Meter Hop   \n",
            "3  Thu Jul 30, 2020 21:25 UTC  Proton-M/Briz-M | Ekspress-80 & Ekspress-103   \n",
            "4  Thu Jul 30, 2020 11:50 UTC                    Atlas V 541 | Perseverance   \n",
            "\n",
            "  Status Rocket Cost (Million $) Status Mission  \n",
            "0  StatusActive               50        Success  \n",
            "1  StatusActive            29.75        Success  \n",
            "2  StatusActive              NaN        Success  \n",
            "3  StatusActive               65        Success  \n",
            "4  StatusActive              145        Success  \n",
            "               Sno\n",
            "count  4324.000000\n",
            "mean   2161.500000\n",
            "std    1248.375611\n",
            "min       0.000000\n",
            "25%    1080.750000\n",
            "50%    2161.500000\n",
            "75%    3242.250000\n",
            "max    4323.000000\n"
          ]
        }
      ]
    },
    {
      "cell_type": "code",
      "source": [
        "#Handling Mission values\n",
        "print(df.isnull().sum())\n"
      ],
      "metadata": {
        "colab": {
          "base_uri": "https://localhost:8080/"
        },
        "id": "fzNEtAQnJz4h",
        "outputId": "eb54c423-36c5-4d53-ad73-9227f67dd5bf"
      },
      "execution_count": 4,
      "outputs": [
        {
          "output_type": "stream",
          "name": "stdout",
          "text": [
            "Sno                    0\n",
            "Company Name           0\n",
            "Location               0\n",
            "Datum                  0\n",
            "Detail                 0\n",
            "Status Rocket          0\n",
            "Cost (Million $)    3360\n",
            "Status Mission         0\n",
            "dtype: int64\n"
          ]
        }
      ]
    },
    {
      "cell_type": "code",
      "source": [],
      "metadata": {
        "id": "qYld2GYe1-sB"
      },
      "execution_count": null,
      "outputs": []
    }
  ]
}